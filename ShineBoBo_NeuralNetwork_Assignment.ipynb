{
 "cells": [
  {
   "cell_type": "markdown",
   "id": "a52ff7b0",
   "metadata": {},
   "source": [
    "# What is a neural network?\n",
    "    A neural network is a computer system which is similar to human brain. It is made of neurons which are connected nodes that pass information. It learn from data to make-predictions.\n",
    "\n",
    "# What is the difference between input, hidden and output layers?\n",
    "    The input layer recieves the date while the hidden layers process the data inside and find the patterns of the data. The output layer make the final prediction or result.\n",
    "\n",
    "# What is backpropagation and why is it important?\n",
    "    Backpropagation is a neural network learning from errors. It sends the error back to the network. This makes the connections up to date so the network improves in learning and predictions.\n"
   ]
  },
  {
   "cell_type": "code",
   "execution_count": 1,
   "id": "0678596a",
   "metadata": {},
   "outputs": [
    {
     "name": "stdout",
     "output_type": "stream",
     "text": [
      "The dot product is: 2.1672\n"
     ]
    }
   ],
   "source": [
    "#Manually compute the dot product of an input vector and weights\n",
    "input_vector = [1.72, 1.23]\n",
    "weights_1 = [1.26, 0]\n",
    "weights_2 = [2.17, 0.32]\n",
    "\n",
    "# Computing the dot product of input_vector and weights_1\n",
    "first_indexes_mult = input_vector[0] * weights_1[0]\n",
    "second_indexes_mult = input_vector[1] * weights_1[1]\n",
    "dot_product_1 = first_indexes_mult + second_indexes_mult\n",
    "\n",
    "print(f\"The dot product is: {dot_product_1}\")"
   ]
  },
  {
   "cell_type": "code",
   "execution_count": 2,
   "id": "e6eaa5f8",
   "metadata": {},
   "outputs": [
    {
     "name": "stdout",
     "output_type": "stream",
     "text": [
      "The dot product is: 2.1672\n"
     ]
    }
   ],
   "source": [
    "# Use NumPy to compute dot products more efficiently\n",
    "import numpy as np\n",
    "\n",
    "dot_product_1 = np.dot(input_vector, weights_1)\n",
    "\n",
    "print(f\"The dot product is: {dot_product_1}\")"
   ]
  },
  {
   "cell_type": "code",
   "execution_count": 3,
   "id": "14367baa",
   "metadata": {},
   "outputs": [
    {
     "name": "stdout",
     "output_type": "stream",
     "text": [
      "The dot product is: 4.1259999999999994\n"
     ]
    }
   ],
   "source": [
    "dot_product_2 = np.dot(input_vector, weights_2)\n",
    "\n",
    "print(f\"The dot product is: {dot_product_2}\")"
   ]
  },
  {
   "cell_type": "code",
   "execution_count": 4,
   "id": "77d349f4",
   "metadata": {},
   "outputs": [
    {
     "name": "stdout",
     "output_type": "stream",
     "text": [
      "The prediction result is: [0.7985731]\n"
     ]
    }
   ],
   "source": [
    "# Wrapping the vectors in NumPy arrays\n",
    "input_vector = np.array([1.66, 1.56])\n",
    "weights_1 = np.array([1.45, -0.66])\n",
    "bias = np.array([0.0])\n",
    "\n",
    "def sigmoid(x):\n",
    "    return 1 / (1 + np.exp(-x))\n",
    "\n",
    "def make_prediction(input_vector, weights, bias):\n",
    "     layer_1 = np.dot(input_vector, weights) + bias\n",
    "     layer_2 = sigmoid(layer_1)\n",
    "     return layer_2\n",
    "\n",
    "prediction = make_prediction(input_vector, weights_1, bias)\n",
    "\n",
    "print(f\"The prediction result is: {prediction}\")"
   ]
  },
  {
   "cell_type": "code",
   "execution_count": 5,
   "id": "fd52d50d",
   "metadata": {},
   "outputs": [
    {
     "name": "stdout",
     "output_type": "stream",
     "text": [
      "The prediction result is: [0.87101915]\n"
     ]
    }
   ],
   "source": [
    "# Changing the value of input_vector\n",
    "input_vector = np.array([2, 1.5])\n",
    "\n",
    "prediction = make_prediction(input_vector, weights_1, bias)\n",
    "\n",
    "print(f\"The prediction result is: {prediction}\")"
   ]
  },
  {
   "cell_type": "code",
   "execution_count": 6,
   "id": "22998fd5",
   "metadata": {},
   "outputs": [
    {
     "name": "stdout",
     "output_type": "stream",
     "text": [
      "Prediction: [0.87101915]; Error: [0.75867436]\n"
     ]
    }
   ],
   "source": [
    "# Compute Mean Squared Error (MSE) and its derivative\n",
    "target = 0\n",
    "\n",
    "mse = np.square(prediction - target)\n",
    "\n",
    "print(f\"Prediction: {prediction}; Error: {mse}\")"
   ]
  },
  {
   "cell_type": "code",
   "execution_count": 7,
   "id": "65fabcc0",
   "metadata": {},
   "outputs": [
    {
     "name": "stdout",
     "output_type": "stream",
     "text": [
      "The derivative is [1.7420383]\n"
     ]
    }
   ],
   "source": [
    "derivative = 2 * (prediction - target)\n",
    "\n",
    "print(f\"The derivative is {derivative}\")"
   ]
  },
  {
   "cell_type": "code",
   "execution_count": 8,
   "id": "682e2399",
   "metadata": {},
   "outputs": [
    {
     "name": "stdout",
     "output_type": "stream",
     "text": [
      "Prediction: [0.01496248]; Error: [0.00022388]\n"
     ]
    }
   ],
   "source": [
    "# Updating the weights\n",
    "weights_1 = weights_1 - derivative\n",
    "\n",
    "prediction = make_prediction(input_vector, weights_1, bias)\n",
    "\n",
    "error = (prediction - target) ** 2\n",
    "\n",
    "print(f\"Prediction: {prediction}; Error: {error}\")"
   ]
  },
  {
   "cell_type": "code",
   "execution_count": 9,
   "id": "0f8b6d43",
   "metadata": {},
   "outputs": [],
   "source": [
    "# Compute gradient for bias using backpropagation\n",
    "def sigmoid_deriv(x):\n",
    "    return sigmoid(x) * (1-sigmoid(x))\n",
    "\n",
    "derror_dprediction = 2 * (prediction - target)\n",
    "layer_1 = np.dot(input_vector, weights_1) + bias\n",
    "dprediction_dlayer1 = sigmoid_deriv(layer_1)\n",
    "dlayer1_dbias = 1\n",
    "\n",
    "derror_dbias = (\n",
    "    derror_dprediction * dprediction_dlayer1 * dlayer1_dbias\n",
    ")"
   ]
  },
  {
   "cell_type": "code",
   "execution_count": 10,
   "id": "ff4c1083",
   "metadata": {},
   "outputs": [],
   "source": [
    "# Define a simple neural network class with training\n",
    "class NeuralNetwork:\n",
    "    def __init__(self, learning_rate):\n",
    "        self.weights = np.array([np.random.randn(), np.random.randn()])\n",
    "        self.bias = np.random.randn()\n",
    "        self.learning_rate = learning_rate\n",
    "\n",
    "    def _sigmoid(self, x):\n",
    "        return 1 / (1 + np.exp(-x))\n",
    "\n",
    "    def _sigmoid_deriv(self, x):\n",
    "        return self._sigmoid(x) * (1 - self._sigmoid(x))\n",
    "\n",
    "    def predict(self, input_vector):\n",
    "        layer_1 = np.dot(input_vector, self.weights) + self.bias\n",
    "        layer_2 = self._sigmoid(layer_1)\n",
    "        prediction = layer_2\n",
    "        return prediction\n",
    "\n",
    "    def _compute_gradients(self, input_vector, target):\n",
    "        layer_1 = np.dot(input_vector, self.weights) + self.bias\n",
    "        layer_2 = self._sigmoid(layer_1)\n",
    "        prediction = layer_2\n",
    "\n",
    "        derror_dprediction = 2 * (prediction - target)\n",
    "        dprediction_dlayer1 = self._sigmoid_deriv(layer_1)\n",
    "        dlayer1_dbias = 1\n",
    "        dlayer1_dweights = (0 * self.weights) + (1 * input_vector)\n",
    "\n",
    "        derror_dbias = (\n",
    "            derror_dprediction * dprediction_dlayer1 * dlayer1_dbias\n",
    "        )\n",
    "        derror_dweights = (\n",
    "            derror_dprediction * dprediction_dlayer1 * dlayer1_dweights\n",
    "        )\n",
    "\n",
    "        return derror_dbias, derror_dweights\n",
    "\n",
    "    def _update_parameters(self, derror_dbias, derror_dweights):\n",
    "        self.bias = self.bias - (derror_dbias * self.learning_rate)\n",
    "        self.weights = self.weights - (\n",
    "            derror_dweights * self.learning_rate\n",
    "        )\n",
    "\n",
    "    def train(self, input_vectors, targets, iterations):\n",
    "        cumulative_errors = []\n",
    "        for current_iteration in range(iterations):\n",
    "            # Pick a data instance at random\n",
    "            random_data_index = np.random.randint(len(input_vectors))\n",
    "\n",
    "            input_vector = input_vectors[random_data_index]\n",
    "            target = targets[random_data_index]\n",
    "\n",
    "            # Compute the gradients and update the weights\n",
    "            derror_dbias, derror_dweights = self._compute_gradients(\n",
    "                input_vector, target\n",
    "            )\n",
    "\n",
    "            self._update_parameters(derror_dbias, derror_dweights)\n",
    "\n",
    "            # Measure the cumulative error for all the instances\n",
    "            if current_iteration % 100 == 0:\n",
    "                cumulative_error = 0\n",
    "                # Loop through all the instances to measure the error\n",
    "                for data_instance_index in range(len(input_vectors)):\n",
    "                    data_point = input_vectors[data_instance_index]\n",
    "                    target = targets[data_instance_index]\n",
    "\n",
    "                    prediction = self.predict(data_point)\n",
    "                    error = np.square(prediction - target)\n",
    "\n",
    "                    cumulative_error = cumulative_error + error\n",
    "                cumulative_errors.append(cumulative_error)\n",
    "\n",
    "        return cumulative_errors"
   ]
  },
  {
   "cell_type": "code",
   "execution_count": 11,
   "id": "add08a30",
   "metadata": {},
   "outputs": [
    {
     "data": {
      "text/plain": [
       "0.23643447058040137"
      ]
     },
     "execution_count": 11,
     "metadata": {},
     "output_type": "execute_result"
    }
   ],
   "source": [
    "# Create a neural network and make a prediction\n",
    "learning_rate = 0.1\n",
    "\n",
    "neural_network = NeuralNetwork(learning_rate)\n",
    "\n",
    "neural_network.predict(input_vector)"
   ]
  },
  {
   "cell_type": "code",
   "execution_count": 12,
   "id": "8ac6e14a",
   "metadata": {},
   "outputs": [
    {
     "data": {
      "image/png": "[encoded data removed]",
      "text/plain": [
       "<Figure size 640x480 with 1 Axes>"
      ]
     },
     "metadata": {},
     "output_type": "display_data"
    }
   ],
   "source": [
    "# Train the network with multiple examples and plot errors\n",
    "import matplotlib.pyplot as plt\n",
    "\n",
    "input_vectors = np.array(\n",
    "    [\n",
    "        [3, 1.5],\n",
    "        [2, 1],\n",
    "        [4, 1.5],\n",
    "        [3, 4],\n",
    "        [3.5, 0.5],\n",
    "        [2, 0.5],\n",
    "        [5.5, 1],\n",
    "        [1, 1],\n",
    "    ]\n",
    ")\n",
    "\n",
    "targets = np.array([0, 1, 0, 1, 0, 1, 1, 0])\n",
    "\n",
    "learning_rate = 0.1\n",
    "\n",
    "neural_network = NeuralNetwork(learning_rate)\n",
    "\n",
    "training_error = neural_network.train(input_vectors, targets, 10000)\n",
    "\n",
    "plt.plot(training_error)\n",
    "plt.xlabel(\"Iterations\")\n",
    "plt.ylabel(\"Error for all training instances\")\n",
    "plt.savefig(\"cumulative_error.png\")"
   ]
  },
  {
   "cell_type": "code",
   "execution_count": null,
   "id": "d32f1adf",
   "metadata": {},
   "outputs": [],
   "source": []
  }
 ],
 "metadata": {
  "kernelspec": {
   "display_name": "Python 3",
   "language": "python",
   "name": "python3"
  },
  "language_info": {
   "codemirror_mode": {
    "name": "ipython",
    "version": 3
   },
   "file_extension": ".py",
   "mimetype": "text/x-python",
   "name": "python",
   "nbconvert_exporter": "python",
   "pygments_lexer": "ipython3",
   "version": "3.12.0"
  }
 },
 "nbformat": 4,
 "nbformat_minor": 5
}
